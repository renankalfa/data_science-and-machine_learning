{
 "cells": [
  {
   "cell_type": "markdown",
   "id": "fc50a2cc",
   "metadata": {},
   "source": [
    "# Série Temporal"
   ]
  },
  {
   "cell_type": "markdown",
   "id": "00c3430e",
   "metadata": {},
   "source": [
    "## Etapa 1: Instaçãoda biblioteca"
   ]
  },
  {
   "cell_type": "code",
   "execution_count": 1,
   "id": "df510742",
   "metadata": {},
   "outputs": [
    {
     "name": "stdout",
     "output_type": "stream",
     "text": [
      "Collecting pmdarima\n",
      "  Downloading pmdarima-1.8.5-cp38-cp38-win_amd64.whl (602 kB)\n",
      "Requirement already satisfied: Cython!=0.29.18,>=0.29 in c:\\users\\kalfa\\anaconda3\\lib\\site-packages (from pmdarima) (0.29.24)\n",
      "Requirement already satisfied: statsmodels!=0.12.0,>=0.11 in c:\\users\\kalfa\\anaconda3\\lib\\site-packages (from pmdarima) (0.12.2)\n",
      "Requirement already satisfied: urllib3 in c:\\users\\kalfa\\anaconda3\\lib\\site-packages (from pmdarima) (1.26.7)\n",
      "Requirement already satisfied: setuptools!=50.0.0,>=38.6.0 in c:\\users\\kalfa\\anaconda3\\lib\\site-packages (from pmdarima) (58.0.4)\n",
      "Requirement already satisfied: joblib>=0.11 in c:\\users\\kalfa\\anaconda3\\lib\\site-packages (from pmdarima) (1.1.0)\n",
      "Requirement already satisfied: scikit-learn>=0.22 in c:\\users\\kalfa\\anaconda3\\lib\\site-packages (from pmdarima) (1.0.2)\n",
      "Requirement already satisfied: numpy>=1.19.3 in c:\\users\\kalfa\\anaconda3\\lib\\site-packages (from pmdarima) (1.20.3)\n",
      "Requirement already satisfied: scipy>=1.3.2 in c:\\users\\kalfa\\anaconda3\\lib\\site-packages (from pmdarima) (1.7.1)\n",
      "Requirement already satisfied: pandas>=0.19 in c:\\users\\kalfa\\anaconda3\\lib\\site-packages (from pmdarima) (1.3.4)\n",
      "Requirement already satisfied: pytz>=2017.3 in c:\\users\\kalfa\\anaconda3\\lib\\site-packages (from pandas>=0.19->pmdarima) (2021.3)\n",
      "Requirement already satisfied: python-dateutil>=2.7.3 in c:\\users\\kalfa\\anaconda3\\lib\\site-packages (from pandas>=0.19->pmdarima) (2.8.2)\n",
      "Requirement already satisfied: six>=1.5 in c:\\users\\kalfa\\anaconda3\\lib\\site-packages (from python-dateutil>=2.7.3->pandas>=0.19->pmdarima) (1.16.0)\n",
      "Requirement already satisfied: threadpoolctl>=2.0.0 in c:\\users\\kalfa\\anaconda3\\lib\\site-packages (from scikit-learn>=0.22->pmdarima) (2.2.0)\n",
      "Requirement already satisfied: patsy>=0.5 in c:\\users\\kalfa\\anaconda3\\lib\\site-packages (from statsmodels!=0.12.0,>=0.11->pmdarima) (0.5.2)\n",
      "Installing collected packages: pmdarima\n",
      "Successfully installed pmdarima-1.8.5\n"
     ]
    }
   ],
   "source": [
    "!pip install pmdarima"
   ]
  },
  {
   "cell_type": "markdown",
   "id": "a2b80d9a",
   "metadata": {},
   "source": [
    "## Etapa 2: Importação da biblioteca"
   ]
  },
  {
   "cell_type": "code",
   "execution_count": 63,
   "id": "3e4dce59",
   "metadata": {},
   "outputs": [],
   "source": [
    "import pandas as pd\n",
    "import numpy as np\n",
    "import matplotlib.pylab as plt\n",
    "import matplotlib.pyplot as plt1\n",
    "from datetime import datetime\n",
    "from statsmodels.tsa.seasonal import seasonal_decompose\n",
    "from pmdarima.arima import auto_arima"
   ]
  },
  {
   "cell_type": "markdown",
   "id": "f402e5de",
   "metadata": {},
   "source": [
    "## Etapa 3: Carregamento da base de dados"
   ]
  },
  {
   "cell_type": "code",
   "execution_count": 3,
   "id": "bbfae5dd",
   "metadata": {},
   "outputs": [
    {
     "data": {
      "text/html": [
       "<div>\n",
       "<style scoped>\n",
       "    .dataframe tbody tr th:only-of-type {\n",
       "        vertical-align: middle;\n",
       "    }\n",
       "\n",
       "    .dataframe tbody tr th {\n",
       "        vertical-align: top;\n",
       "    }\n",
       "\n",
       "    .dataframe thead th {\n",
       "        text-align: right;\n",
       "    }\n",
       "</style>\n",
       "<table border=\"1\" class=\"dataframe\">\n",
       "  <thead>\n",
       "    <tr style=\"text-align: right;\">\n",
       "      <th></th>\n",
       "      <th>Month</th>\n",
       "      <th>#Passengers</th>\n",
       "    </tr>\n",
       "  </thead>\n",
       "  <tbody>\n",
       "    <tr>\n",
       "      <th>0</th>\n",
       "      <td>1949-01</td>\n",
       "      <td>112</td>\n",
       "    </tr>\n",
       "    <tr>\n",
       "      <th>1</th>\n",
       "      <td>1949-02</td>\n",
       "      <td>118</td>\n",
       "    </tr>\n",
       "    <tr>\n",
       "      <th>2</th>\n",
       "      <td>1949-03</td>\n",
       "      <td>132</td>\n",
       "    </tr>\n",
       "    <tr>\n",
       "      <th>3</th>\n",
       "      <td>1949-04</td>\n",
       "      <td>129</td>\n",
       "    </tr>\n",
       "    <tr>\n",
       "      <th>4</th>\n",
       "      <td>1949-05</td>\n",
       "      <td>121</td>\n",
       "    </tr>\n",
       "  </tbody>\n",
       "</table>\n",
       "</div>"
      ],
      "text/plain": [
       "     Month  #Passengers\n",
       "0  1949-01          112\n",
       "1  1949-02          118\n",
       "2  1949-03          132\n",
       "3  1949-04          129\n",
       "4  1949-05          121"
      ]
     },
     "execution_count": 3,
     "metadata": {},
     "output_type": "execute_result"
    }
   ],
   "source": [
    "dataset = pd.read_csv('AirPassengers.csv')\n",
    "dataset.head()"
   ]
  },
  {
   "cell_type": "markdown",
   "id": "f6195068",
   "metadata": {},
   "source": [
    "Precisamos fazer uma conversão do dataset para um formato em que podemos tralhar com as séries temporais no Python."
   ]
  },
  {
   "cell_type": "code",
   "execution_count": 4,
   "id": "34271831",
   "metadata": {},
   "outputs": [
    {
     "name": "stderr",
     "output_type": "stream",
     "text": [
      "C:\\Users\\Kalfa\\AppData\\Local\\Temp/ipykernel_7156/2119431784.py:1: FutureWarning: The pandas.datetime class is deprecated and will be removed from pandas in a future version. Import from datetime module instead.\n",
      "  dateparse = lambda dates: pd.datetime.strptime(dates, '%Y-%m')\n"
     ]
    }
   ],
   "source": [
    "dateparse = lambda dates: pd.datetime.strptime(dates, '%Y-%m')\n",
    "dataset = pd.read_csv('AirPassengers.csv', parse_dates = ['Month'], index_col = 'Month', date_parser = dateparse)"
   ]
  },
  {
   "cell_type": "code",
   "execution_count": 5,
   "id": "84cbbb3c",
   "metadata": {},
   "outputs": [
    {
     "data": {
      "text/html": [
       "<div>\n",
       "<style scoped>\n",
       "    .dataframe tbody tr th:only-of-type {\n",
       "        vertical-align: middle;\n",
       "    }\n",
       "\n",
       "    .dataframe tbody tr th {\n",
       "        vertical-align: top;\n",
       "    }\n",
       "\n",
       "    .dataframe thead th {\n",
       "        text-align: right;\n",
       "    }\n",
       "</style>\n",
       "<table border=\"1\" class=\"dataframe\">\n",
       "  <thead>\n",
       "    <tr style=\"text-align: right;\">\n",
       "      <th></th>\n",
       "      <th>#Passengers</th>\n",
       "    </tr>\n",
       "    <tr>\n",
       "      <th>Month</th>\n",
       "      <th></th>\n",
       "    </tr>\n",
       "  </thead>\n",
       "  <tbody>\n",
       "    <tr>\n",
       "      <th>1949-01-01</th>\n",
       "      <td>112</td>\n",
       "    </tr>\n",
       "    <tr>\n",
       "      <th>1949-02-01</th>\n",
       "      <td>118</td>\n",
       "    </tr>\n",
       "    <tr>\n",
       "      <th>1949-03-01</th>\n",
       "      <td>132</td>\n",
       "    </tr>\n",
       "    <tr>\n",
       "      <th>1949-04-01</th>\n",
       "      <td>129</td>\n",
       "    </tr>\n",
       "    <tr>\n",
       "      <th>1949-05-01</th>\n",
       "      <td>121</td>\n",
       "    </tr>\n",
       "  </tbody>\n",
       "</table>\n",
       "</div>"
      ],
      "text/plain": [
       "            #Passengers\n",
       "Month                  \n",
       "1949-01-01          112\n",
       "1949-02-01          118\n",
       "1949-03-01          132\n",
       "1949-04-01          129\n",
       "1949-05-01          121"
      ]
     },
     "execution_count": 5,
     "metadata": {},
     "output_type": "execute_result"
    }
   ],
   "source": [
    "dataset.head()"
   ]
  },
  {
   "cell_type": "code",
   "execution_count": 7,
   "id": "f2b819c3",
   "metadata": {},
   "outputs": [
    {
     "data": {
      "text/plain": [
       "Month\n",
       "1949-01-01    112\n",
       "1949-02-01    118\n",
       "1949-03-01    132\n",
       "1949-04-01    129\n",
       "1949-05-01    121\n",
       "             ... \n",
       "1960-08-01    606\n",
       "1960-09-01    508\n",
       "1960-10-01    461\n",
       "1960-11-01    390\n",
       "1960-12-01    432\n",
       "Name: #Passengers, Length: 144, dtype: int64"
      ]
     },
     "execution_count": 7,
     "metadata": {},
     "output_type": "execute_result"
    }
   ],
   "source": [
    "time_series = dataset['#Passengers']\n",
    "time_series"
   ]
  },
  {
   "cell_type": "markdown",
   "id": "52bf935c",
   "metadata": {},
   "source": [
    "## Etapa 4: Exploração da série temporal"
   ]
  },
  {
   "cell_type": "code",
   "execution_count": 9,
   "id": "0ddec355",
   "metadata": {},
   "outputs": [
    {
     "data": {
      "text/plain": [
       "118"
      ]
     },
     "execution_count": 9,
     "metadata": {},
     "output_type": "execute_result"
    }
   ],
   "source": [
    "time_series[1]"
   ]
  },
  {
   "cell_type": "code",
   "execution_count": 12,
   "id": "2e5b80c3",
   "metadata": {},
   "outputs": [
    {
     "data": {
      "text/plain": [
       "Month\n",
       "1960-03-01    419\n",
       "Name: #Passengers, dtype: int64"
      ]
     },
     "execution_count": 12,
     "metadata": {},
     "output_type": "execute_result"
    }
   ],
   "source": [
    "time_series['1960-03']"
   ]
  },
  {
   "cell_type": "markdown",
   "id": "6c09f787",
   "metadata": {},
   "source": [
    "Podemos filtrar usando o datetime"
   ]
  },
  {
   "cell_type": "code",
   "execution_count": 13,
   "id": "fda21e1e",
   "metadata": {},
   "outputs": [
    {
     "data": {
      "text/plain": [
       "419"
      ]
     },
     "execution_count": 13,
     "metadata": {},
     "output_type": "execute_result"
    }
   ],
   "source": [
    "time_series[datetime(1960, 3, 1)]"
   ]
  },
  {
   "cell_type": "markdown",
   "id": "996911db",
   "metadata": {},
   "source": [
    "Podemos realizar fatiamento com as datas"
   ]
  },
  {
   "cell_type": "code",
   "execution_count": 16,
   "id": "c4cb4be2",
   "metadata": {},
   "outputs": [
    {
     "data": {
      "text/plain": [
       "Month\n",
       "1949-01-01    112\n",
       "1949-02-01    118\n",
       "Name: #Passengers, dtype: int64"
      ]
     },
     "execution_count": 16,
     "metadata": {},
     "output_type": "execute_result"
    }
   ],
   "source": [
    "time_series['1949-01-01':'1949-02-01']"
   ]
  },
  {
   "cell_type": "markdown",
   "id": "7095f0ee",
   "metadata": {},
   "source": [
    "Podemos filtrar até uma certa data"
   ]
  },
  {
   "cell_type": "code",
   "execution_count": 17,
   "id": "8e23986c",
   "metadata": {},
   "outputs": [
    {
     "data": {
      "text/plain": [
       "Month\n",
       "1949-01-01    112\n",
       "1949-02-01    118\n",
       "1949-03-01    132\n",
       "1949-04-01    129\n",
       "1949-05-01    121\n",
       "1949-06-01    135\n",
       "1949-07-01    148\n",
       "1949-08-01    148\n",
       "1949-09-01    136\n",
       "1949-10-01    119\n",
       "1949-11-01    104\n",
       "1949-12-01    118\n",
       "1950-01-01    115\n",
       "1950-02-01    126\n",
       "1950-03-01    141\n",
       "1950-04-01    135\n",
       "1950-05-01    125\n",
       "1950-06-01    149\n",
       "1950-07-01    170\n",
       "Name: #Passengers, dtype: int64"
      ]
     },
     "execution_count": 17,
     "metadata": {},
     "output_type": "execute_result"
    }
   ],
   "source": [
    "time_series[:'1950-07-31']"
   ]
  },
  {
   "cell_type": "markdown",
   "id": "6e2595b4",
   "metadata": {},
   "source": [
    "Filtrar por ano"
   ]
  },
  {
   "cell_type": "code",
   "execution_count": 18,
   "id": "b1648bc9",
   "metadata": {},
   "outputs": [
    {
     "data": {
      "text/plain": [
       "Month\n",
       "1950-01-01    115\n",
       "1950-02-01    126\n",
       "1950-03-01    141\n",
       "1950-04-01    135\n",
       "1950-05-01    125\n",
       "1950-06-01    149\n",
       "1950-07-01    170\n",
       "1950-08-01    170\n",
       "1950-09-01    158\n",
       "1950-10-01    133\n",
       "1950-11-01    114\n",
       "1950-12-01    140\n",
       "Name: #Passengers, dtype: int64"
      ]
     },
     "execution_count": 18,
     "metadata": {},
     "output_type": "execute_result"
    }
   ],
   "source": [
    "time_series['1950']"
   ]
  },
  {
   "cell_type": "code",
   "execution_count": 19,
   "id": "98905430",
   "metadata": {},
   "outputs": [
    {
     "data": {
      "text/plain": [
       "(Timestamp('1960-12-01 00:00:00'), Timestamp('1949-01-01 00:00:00'))"
      ]
     },
     "execution_count": 19,
     "metadata": {},
     "output_type": "execute_result"
    }
   ],
   "source": [
    "time_series.index.max(), time_series.index.min()"
   ]
  },
  {
   "cell_type": "markdown",
   "id": "3333738d",
   "metadata": {},
   "source": [
    "Podemos gerar um gráfico com o plt.plot"
   ]
  },
  {
   "cell_type": "code",
   "execution_count": 22,
   "id": "211393e1",
   "metadata": {},
   "outputs": [
    {
     "data": {
      "image/png": "[encoded data removed]",
      "text/plain": [
       "<Figure size 432x288 with 1 Axes>"
      ]
     },
     "metadata": {
      "needs_background": "light"
     },
     "output_type": "display_data"
    }
   ],
   "source": [
    "plt.plot(time_series);\n",
    "plt.xlabel('Ano')\n",
    "plt.ylabel('Quantidades');"
   ]
  },
  {
   "cell_type": "markdown",
   "id": "c0ee10d4",
   "metadata": {},
   "source": [
    "Podemos fazer uma agrupamento por ano"
   ]
  },
  {
   "cell_type": "code",
   "execution_count": 24,
   "id": "2a527c1c",
   "metadata": {},
   "outputs": [
    {
     "data": {
      "image/png": "[encoded data removed]",
      "text/plain": [
       "<Figure size 432x288 with 1 Axes>"
      ]
     },
     "metadata": {
      "needs_background": "light"
     },
     "output_type": "display_data"
    }
   ],
   "source": [
    "time_series_ano = time_series.resample('A').sum()\n",
    "plt.plot(time_series_ano);"
   ]
  },
  {
   "cell_type": "markdown",
   "id": "ba6eb9e3",
   "metadata": {},
   "source": [
    "Podemos fazer uma agrupamento por mês"
   ]
  },
  {
   "cell_type": "code",
   "execution_count": 25,
   "id": "b60f9ceb",
   "metadata": {},
   "outputs": [
    {
     "data": {
      "image/png": "[encoded data removed]",
      "text/plain": [
       "<Figure size 432x288 with 1 Axes>"
      ]
     },
     "metadata": {
      "needs_background": "light"
     },
     "output_type": "display_data"
    }
   ],
   "source": [
    "time_series_mes = time_series.groupby([lambda x: x.month]).sum()\n",
    "plt.plot(time_series_mes);"
   ]
  },
  {
   "cell_type": "markdown",
   "id": "e72627f7",
   "metadata": {},
   "source": [
    "Podemos visualiar o gráfico apenas de um ano"
   ]
  },
  {
   "cell_type": "code",
   "execution_count": 27,
   "id": "2023ec5c",
   "metadata": {},
   "outputs": [
    {
     "data": {
      "image/png": "[encoded data removed]",
      "text/plain": [
       "<Figure size 432x288 with 1 Axes>"
      ]
     },
     "metadata": {
      "needs_background": "light"
     },
     "output_type": "display_data"
    }
   ],
   "source": [
    "time_series_datas = time_series['1960-01-01':'1960-12-01']\n",
    "plt.plot(time_series_datas);"
   ]
  },
  {
   "cell_type": "markdown",
   "id": "28ba4ba0",
   "metadata": {},
   "source": [
    "## Etapa 5: Decomposição da série temporal"
   ]
  },
  {
   "cell_type": "markdown",
   "id": "9952e309",
   "metadata": {},
   "source": [
    "Podemos fazer a divisão e analisar cada parte dela (suas características).\n",
    "\n",
    "- tendência: com ela podemos analisar se é uma tendência de queda ou subida;\n",
    "- sazonal: podemos observar a sazonalidade dos dados, em quais meses obtivemos mais passageiros, por exemplo;\n",
    "- aleatorio: eventos que aconteceram em determinado tempo. Como por exemplo, fenônemos que não podem ser controlados (desastres, atentados...)."
   ]
  },
  {
   "cell_type": "code",
   "execution_count": 28,
   "id": "c290d961",
   "metadata": {},
   "outputs": [],
   "source": [
    "decomposicao = seasonal_decompose(time_series)\n",
    "tendencia = decomposicao.trend\n",
    "sazonal = decomposicao.seasonal\n",
    "aleatorio = decomposicao.resid"
   ]
  },
  {
   "cell_type": "markdown",
   "id": "72fd2c1c",
   "metadata": {},
   "source": [
    "Podemos observar uma tendência no crescimento"
   ]
  },
  {
   "cell_type": "code",
   "execution_count": 29,
   "id": "51dbd25d",
   "metadata": {
    "scrolled": true
   },
   "outputs": [
    {
     "data": {
      "image/png": "[encoded data removed]",
      "text/plain": [
       "<Figure size 432x288 with 1 Axes>"
      ]
     },
     "metadata": {
      "needs_background": "light"
     },
     "output_type": "display_data"
    }
   ],
   "source": [
    "plt.plot(tendencia);"
   ]
  },
  {
   "cell_type": "code",
   "execution_count": 30,
   "id": "4675db96",
   "metadata": {},
   "outputs": [
    {
     "data": {
      "image/png": "[encoded data removed]",
      "text/plain": [
       "<Figure size 432x288 with 1 Axes>"
      ]
     },
     "metadata": {
      "needs_background": "light"
     },
     "output_type": "display_data"
    }
   ],
   "source": [
    "plt.plot(sazonal);"
   ]
  },
  {
   "cell_type": "code",
   "execution_count": 31,
   "id": "4454e082",
   "metadata": {},
   "outputs": [
    {
     "data": {
      "image/png": "[encoded data removed]",
      "text/plain": [
       "<Figure size 432x288 with 1 Axes>"
      ]
     },
     "metadata": {
      "needs_background": "light"
     },
     "output_type": "display_data"
    }
   ],
   "source": [
    "plt.plot(aleatorio);"
   ]
  },
  {
   "cell_type": "markdown",
   "id": "1a186aee",
   "metadata": {},
   "source": [
    "## Etapa 6: Previsões com ARIMA"
   ]
  },
  {
   "cell_type": "markdown",
   "id": "8aa1779c",
   "metadata": {},
   "source": [
    "Iremos criar a variável que irá criar as previsões\n",
    "\n",
    "Parâmetros P, Q e D. O modelo gera eles automaticamente."
   ]
  },
  {
   "cell_type": "code",
   "execution_count": 36,
   "id": "3154ceb5",
   "metadata": {},
   "outputs": [],
   "source": [
    "model = auto_arima(time_series)"
   ]
  },
  {
   "cell_type": "code",
   "execution_count": 37,
   "id": "ae182ac1",
   "metadata": {},
   "outputs": [
    {
     "data": {
      "text/plain": [
       "(4, 1, 3)"
      ]
     },
     "execution_count": 37,
     "metadata": {},
     "output_type": "execute_result"
    }
   ],
   "source": [
    "model.order"
   ]
  },
  {
   "cell_type": "markdown",
   "id": "5fd1384a",
   "metadata": {},
   "source": [
    "Gerando as previsões"
   ]
  },
  {
   "cell_type": "markdown",
   "id": "042bc984",
   "metadata": {},
   "source": [
    "- n_periods: a quantidade de datas pra frente (iremos prever até 1961, 12 meses na frente)."
   ]
  },
  {
   "cell_type": "code",
   "execution_count": 40,
   "id": "faaa8d06",
   "metadata": {},
   "outputs": [],
   "source": [
    "predictions = model.predict(n_periods=24)"
   ]
  },
  {
   "cell_type": "code",
   "execution_count": 41,
   "id": "f5e2a016",
   "metadata": {},
   "outputs": [
    {
     "data": {
      "text/plain": [
       "array([467.57378606, 490.49452807, 509.1369073 , 492.55474152,\n",
       "       495.30596028, 475.94780606, 476.33984338, 475.55214068,\n",
       "       472.35381822, 483.88966386, 475.57018031, 485.92152724,\n",
       "       479.13362234, 480.98743245, 482.22140501, 476.21103365,\n",
       "       483.94282042, 475.84736462, 482.79426213, 479.01196759,\n",
       "       479.5186411 , 482.44945706, 476.97395611, 483.51102488])"
      ]
     },
     "execution_count": 41,
     "metadata": {},
     "output_type": "execute_result"
    }
   ],
   "source": [
    "predictions"
   ]
  },
  {
   "cell_type": "markdown",
   "id": "da69eacf",
   "metadata": {},
   "source": [
    "## Etapa 7: Gráfico das previsões"
   ]
  },
  {
   "cell_type": "markdown",
   "id": "acd2b45c",
   "metadata": {},
   "source": [
    "Verificando quantos registros temos no time_series"
   ]
  },
  {
   "cell_type": "code",
   "execution_count": 42,
   "id": "0594a838",
   "metadata": {},
   "outputs": [
    {
     "data": {
      "text/plain": [
       "144"
      ]
     },
     "execution_count": 42,
     "metadata": {},
     "output_type": "execute_result"
    }
   ],
   "source": [
    "len(time_series)"
   ]
  },
  {
   "cell_type": "markdown",
   "id": "22f95c7a",
   "metadata": {},
   "source": [
    "Iremos fazer a divisão entre uma base ed dados de treinamento e de teste."
   ]
  },
  {
   "cell_type": "code",
   "execution_count": 44,
   "id": "c67cb243",
   "metadata": {},
   "outputs": [
    {
     "data": {
      "text/plain": [
       "(130,)"
      ]
     },
     "execution_count": 44,
     "metadata": {},
     "output_type": "execute_result"
    }
   ],
   "source": [
    "train = time_series[:130]\n",
    "train.shape"
   ]
  },
  {
   "cell_type": "markdown",
   "id": "a527691f",
   "metadata": {},
   "source": [
    "Colocamos o **.index** para conseguirmos ver na formatação de data."
   ]
  },
  {
   "cell_type": "code",
   "execution_count": 47,
   "id": "c5804f0a",
   "metadata": {},
   "outputs": [
    {
     "data": {
      "text/plain": [
       "(Timestamp('1949-01-01 00:00:00'), Timestamp('1959-10-01 00:00:00'))"
      ]
     },
     "execution_count": 47,
     "metadata": {},
     "output_type": "execute_result"
    }
   ],
   "source": [
    "train.index.min(), train.index.max()"
   ]
  },
  {
   "cell_type": "code",
   "execution_count": 48,
   "id": "0103f19e",
   "metadata": {},
   "outputs": [
    {
     "data": {
      "text/plain": [
       "(14,)"
      ]
     },
     "execution_count": 48,
     "metadata": {},
     "output_type": "execute_result"
    }
   ],
   "source": [
    "test = time_series[130:]\n",
    "test.shape"
   ]
  },
  {
   "cell_type": "code",
   "execution_count": 49,
   "id": "af5d3f41",
   "metadata": {},
   "outputs": [
    {
     "data": {
      "text/plain": [
       "(Timestamp('1959-11-01 00:00:00'), Timestamp('1960-12-01 00:00:00'))"
      ]
     },
     "execution_count": 49,
     "metadata": {},
     "output_type": "execute_result"
    }
   ],
   "source": [
    "test.index.min(), test.index.max()"
   ]
  },
  {
   "cell_type": "markdown",
   "id": "8f73bc2d",
   "metadata": {},
   "source": [
    "Iremos treinar um novo modelo\n",
    "\n",
    "- suppress_warnings: para que os warnings não apareçam."
   ]
  },
  {
   "cell_type": "code",
   "execution_count": 50,
   "id": "10eed826",
   "metadata": {},
   "outputs": [],
   "source": [
    "model2 = auto_arima(train, suppress_warnings=True)"
   ]
  },
  {
   "cell_type": "markdown",
   "id": "ee085a03",
   "metadata": {},
   "source": [
    "Criando as previsões em formato de Data Frame"
   ]
  },
  {
   "cell_type": "code",
   "execution_count": 52,
   "id": "9beaf7d5",
   "metadata": {},
   "outputs": [
    {
     "data": {
      "text/html": [
       "<div>\n",
       "<style scoped>\n",
       "    .dataframe tbody tr th:only-of-type {\n",
       "        vertical-align: middle;\n",
       "    }\n",
       "\n",
       "    .dataframe tbody tr th {\n",
       "        vertical-align: top;\n",
       "    }\n",
       "\n",
       "    .dataframe thead th {\n",
       "        text-align: right;\n",
       "    }\n",
       "</style>\n",
       "<table border=\"1\" class=\"dataframe\">\n",
       "  <thead>\n",
       "    <tr style=\"text-align: right;\">\n",
       "      <th></th>\n",
       "      <th>passengers_predictions</th>\n",
       "    </tr>\n",
       "    <tr>\n",
       "      <th>Month</th>\n",
       "      <th></th>\n",
       "    </tr>\n",
       "  </thead>\n",
       "  <tbody>\n",
       "    <tr>\n",
       "      <th>1959-11-01</th>\n",
       "      <td>357.690514</td>\n",
       "    </tr>\n",
       "    <tr>\n",
       "      <th>1959-12-01</th>\n",
       "      <td>334.857454</td>\n",
       "    </tr>\n",
       "    <tr>\n",
       "      <th>1960-01-01</th>\n",
       "      <td>342.488595</td>\n",
       "    </tr>\n",
       "    <tr>\n",
       "      <th>1960-02-01</th>\n",
       "      <td>375.944532</td>\n",
       "    </tr>\n",
       "    <tr>\n",
       "      <th>1960-03-01</th>\n",
       "      <td>424.126289</td>\n",
       "    </tr>\n",
       "    <tr>\n",
       "      <th>1960-04-01</th>\n",
       "      <td>473.151448</td>\n",
       "    </tr>\n",
       "    <tr>\n",
       "      <th>1960-05-01</th>\n",
       "      <td>510.388386</td>\n",
       "    </tr>\n",
       "    <tr>\n",
       "      <th>1960-06-01</th>\n",
       "      <td>527.724252</td>\n",
       "    </tr>\n",
       "    <tr>\n",
       "      <th>1960-07-01</th>\n",
       "      <td>523.268340</td>\n",
       "    </tr>\n",
       "    <tr>\n",
       "      <th>1960-08-01</th>\n",
       "      <td>501.198781</td>\n",
       "    </tr>\n",
       "    <tr>\n",
       "      <th>1960-09-01</th>\n",
       "      <td>469.991484</td>\n",
       "    </tr>\n",
       "    <tr>\n",
       "      <th>1960-10-01</th>\n",
       "      <td>439.680422</td>\n",
       "    </tr>\n",
       "    <tr>\n",
       "      <th>1960-11-01</th>\n",
       "      <td>418.990062</td>\n",
       "    </tr>\n",
       "    <tr>\n",
       "      <th>1960-12-01</th>\n",
       "      <td>413.125661</td>\n",
       "    </tr>\n",
       "  </tbody>\n",
       "</table>\n",
       "</div>"
      ],
      "text/plain": [
       "            passengers_predictions\n",
       "Month                             \n",
       "1959-11-01              357.690514\n",
       "1959-12-01              334.857454\n",
       "1960-01-01              342.488595\n",
       "1960-02-01              375.944532\n",
       "1960-03-01              424.126289\n",
       "1960-04-01              473.151448\n",
       "1960-05-01              510.388386\n",
       "1960-06-01              527.724252\n",
       "1960-07-01              523.268340\n",
       "1960-08-01              501.198781\n",
       "1960-09-01              469.991484\n",
       "1960-10-01              439.680422\n",
       "1960-11-01              418.990062\n",
       "1960-12-01              413.125661"
      ]
     },
     "execution_count": 52,
     "metadata": {},
     "output_type": "execute_result"
    }
   ],
   "source": [
    "prediction = pd.DataFrame(model2.predict(n_periods=14), index=test.index)\n",
    "prediction.columns = ['passengers_predictions']\n",
    "prediction"
   ]
  },
  {
   "cell_type": "markdown",
   "id": "c1c3d7c5",
   "metadata": {},
   "source": [
    "Precisamos comparar com os valores testes."
   ]
  },
  {
   "cell_type": "code",
   "execution_count": 53,
   "id": "a088e965",
   "metadata": {},
   "outputs": [
    {
     "data": {
      "text/plain": [
       "Month\n",
       "1959-11-01    362\n",
       "1959-12-01    405\n",
       "1960-01-01    417\n",
       "1960-02-01    391\n",
       "1960-03-01    419\n",
       "1960-04-01    461\n",
       "1960-05-01    472\n",
       "1960-06-01    535\n",
       "1960-07-01    622\n",
       "1960-08-01    606\n",
       "1960-09-01    508\n",
       "1960-10-01    461\n",
       "1960-11-01    390\n",
       "1960-12-01    432\n",
       "Name: #Passengers, dtype: int64"
      ]
     },
     "execution_count": 53,
     "metadata": {},
     "output_type": "execute_result"
    }
   ],
   "source": [
    "test"
   ]
  },
  {
   "cell_type": "markdown",
   "id": "dc34d610",
   "metadata": {},
   "source": [
    "Agora iremos comparar graficamente as previsões do modelo com valores reais."
   ]
  },
  {
   "cell_type": "code",
   "execution_count": 65,
   "id": "88787435",
   "metadata": {
    "scrolled": true
   },
   "outputs": [
    {
     "data": {
      "image/png": "[encoded data removed]",
      "text/plain": [
       "<Figure size 576x360 with 1 Axes>"
      ]
     },
     "metadata": {
      "needs_background": "light"
     },
     "output_type": "display_data"
    }
   ],
   "source": [
    "plt.figure(figsize=(8, 5))\n",
    "plt.plot(train, label='Training')\n",
    "plt.plot(test, label='Test')\n",
    "plt.plot(prediction, label='Predictions')\n",
    "plt.title(label='Actual values x predictions')\n",
    "plt.legend();"
   ]
  }
 ],
 "metadata": {
  "kernelspec": {
   "display_name": "Python 3 (ipykernel)",
   "language": "python",
   "name": "python3"
  },
  "language_info": {
   "codemirror_mode": {
    "name": "ipython",
    "version": 3
   },
   "file_extension": ".py",
   "mimetype": "text/x-python",
   "name": "python",
   "nbconvert_exporter": "python",
   "pygments_lexer": "ipython3",
   "version": "3.8.12"
  }
 },
 "nbformat": 4,
 "nbformat_minor": 5
}
